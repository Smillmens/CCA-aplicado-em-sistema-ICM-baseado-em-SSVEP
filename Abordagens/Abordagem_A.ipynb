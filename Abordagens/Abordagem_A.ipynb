import scipy.io
import matplotlib.pyplot as plt
import numpy as np
from scipy.signal import butter, lfilter, freqz, filtfilt, freqs, convolve
from scipy import signal
from sklearn.cross_decomposition import CCA, PLSCanonical
import os
import pandas as pd

from ipywidgets import interact, IntSlider
import time
from IPython.display import clear_output
from matplotlib.widgets import Slider

from google.colab import drive
drive.mount('/content/drive')
